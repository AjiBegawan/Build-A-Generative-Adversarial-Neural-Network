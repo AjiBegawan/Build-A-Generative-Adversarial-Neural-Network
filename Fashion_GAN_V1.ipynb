{
 "cells": [
  {
   "attachments": {},
   "cell_type": "markdown",
   "metadata": {},
   "source": [
    "# 1. Import Dependencies and Data"
   ]
  },
  {
   "cell_type": "code",
   "execution_count": 142,
   "metadata": {},
   "outputs": [],
   "source": [
    "# %pip install tensorflow-datasets==4.8.0"
   ]
  },
  {
   "cell_type": "code",
   "execution_count": 1,
   "metadata": {},
   "outputs": [
    {
     "name": "stdout",
     "output_type": "stream",
     "text": [
      "PhysicalDevice(name='/physical_device:GPU:0', device_type='GPU')\n"
     ]
    }
   ],
   "source": [
    "import tensorflow as tf\n",
    "gpus = tf.config.experimental.list_physical_devices('GPU')\n",
    "for gpu in gpus : \n",
    "   tf.config.experimental.set_memory_growth(gpu, True)\n",
    "\n",
    "for gpu in gpus : \n",
    "   print(gpu)"
   ]
  },
  {
   "cell_type": "code",
   "execution_count": 2,
   "metadata": {},
   "outputs": [
    {
     "name": "stderr",
     "output_type": "stream",
     "text": [
      "c:\\Users\\indiz\\miniconda3\\envs\\gan\\lib\\site-packages\\tqdm\\auto.py:21: TqdmWarning: IProgress not found. Please update jupyter and ipywidgets. See https://ipywidgets.readthedocs.io/en/stable/user_install.html\n",
      "  from .autonotebook import tqdm as notebook_tqdm\n"
     ]
    }
   ],
   "source": [
    "import tensorflow_datasets as tfds\n",
    "from matplotlib import pyplot as plt"
   ]
  },
  {
   "cell_type": "code",
   "execution_count": 3,
   "metadata": {},
   "outputs": [],
   "source": [
    "ds = tfds.load('fashion_mnist', split='train')"
   ]
  },
  {
   "cell_type": "code",
   "execution_count": 4,
   "metadata": {},
   "outputs": [
    {
     "data": {
      "text/plain": [
       "2"
      ]
     },
     "execution_count": 4,
     "metadata": {},
     "output_type": "execute_result"
    }
   ],
   "source": [
    "ds.as_numpy_iterator().next()['label']"
   ]
  },
  {
   "attachments": {},
   "cell_type": "markdown",
   "metadata": {},
   "source": [
    "# 2. Viz Data and Build Dataset"
   ]
  },
  {
   "cell_type": "code",
   "execution_count": 5,
   "metadata": {},
   "outputs": [],
   "source": [
    "import numpy as np"
   ]
  },
  {
   "cell_type": "code",
   "execution_count": 6,
   "metadata": {},
   "outputs": [
    {
     "data": {
      "text/plain": [
       "{'image': array([[[  0],\n",
       "         [  0],\n",
       "         [  0],\n",
       "         [  0],\n",
       "         [  0],\n",
       "         [  0],\n",
       "         [  0],\n",
       "         [  0],\n",
       "         [  0],\n",
       "         [ 18],\n",
       "         [ 77],\n",
       "         [227],\n",
       "         [227],\n",
       "         [208],\n",
       "         [210],\n",
       "         [225],\n",
       "         [216],\n",
       "         [ 85],\n",
       "         [ 32],\n",
       "         [  0],\n",
       "         [  0],\n",
       "         [  0],\n",
       "         [  0],\n",
       "         [  0],\n",
       "         [  0],\n",
       "         [  0],\n",
       "         [  0],\n",
       "         [  0]],\n",
       " \n",
       "        [[  0],\n",
       "         [  0],\n",
       "         [  0],\n",
       "         [  0],\n",
       "         [  0],\n",
       "         [  0],\n",
       "         [  0],\n",
       "         [ 61],\n",
       "         [100],\n",
       "         [ 97],\n",
       "         [ 80],\n",
       "         [ 57],\n",
       "         [117],\n",
       "         [227],\n",
       "         [238],\n",
       "         [115],\n",
       "         [ 49],\n",
       "         [ 78],\n",
       "         [106],\n",
       "         [108],\n",
       "         [ 71],\n",
       "         [  0],\n",
       "         [  0],\n",
       "         [  0],\n",
       "         [  0],\n",
       "         [  0],\n",
       "         [  0],\n",
       "         [  0]],\n",
       " \n",
       "        [[  0],\n",
       "         [  0],\n",
       "         [  0],\n",
       "         [  0],\n",
       "         [  0],\n",
       "         [  0],\n",
       "         [ 81],\n",
       "         [105],\n",
       "         [ 80],\n",
       "         [ 69],\n",
       "         [ 72],\n",
       "         [ 64],\n",
       "         [ 44],\n",
       "         [ 21],\n",
       "         [ 13],\n",
       "         [ 44],\n",
       "         [ 69],\n",
       "         [ 75],\n",
       "         [ 75],\n",
       "         [ 80],\n",
       "         [114],\n",
       "         [ 80],\n",
       "         [  0],\n",
       "         [  0],\n",
       "         [  0],\n",
       "         [  0],\n",
       "         [  0],\n",
       "         [  0]],\n",
       " \n",
       "        [[  0],\n",
       "         [  0],\n",
       "         [  0],\n",
       "         [  0],\n",
       "         [  0],\n",
       "         [ 26],\n",
       "         [ 92],\n",
       "         [ 69],\n",
       "         [ 68],\n",
       "         [ 75],\n",
       "         [ 75],\n",
       "         [ 71],\n",
       "         [ 74],\n",
       "         [ 83],\n",
       "         [ 75],\n",
       "         [ 77],\n",
       "         [ 78],\n",
       "         [ 74],\n",
       "         [ 74],\n",
       "         [ 83],\n",
       "         [ 77],\n",
       "         [108],\n",
       "         [ 34],\n",
       "         [  0],\n",
       "         [  0],\n",
       "         [  0],\n",
       "         [  0],\n",
       "         [  0]],\n",
       " \n",
       "        [[  0],\n",
       "         [  0],\n",
       "         [  0],\n",
       "         [  0],\n",
       "         [  0],\n",
       "         [ 55],\n",
       "         [ 92],\n",
       "         [ 69],\n",
       "         [ 74],\n",
       "         [ 74],\n",
       "         [ 71],\n",
       "         [ 71],\n",
       "         [ 77],\n",
       "         [ 69],\n",
       "         [ 66],\n",
       "         [ 75],\n",
       "         [ 74],\n",
       "         [ 77],\n",
       "         [ 80],\n",
       "         [ 80],\n",
       "         [ 78],\n",
       "         [ 94],\n",
       "         [ 63],\n",
       "         [  0],\n",
       "         [  0],\n",
       "         [  0],\n",
       "         [  0],\n",
       "         [  0]],\n",
       " \n",
       "        [[  0],\n",
       "         [  0],\n",
       "         [  0],\n",
       "         [  0],\n",
       "         [  0],\n",
       "         [ 63],\n",
       "         [ 95],\n",
       "         [ 66],\n",
       "         [ 68],\n",
       "         [ 72],\n",
       "         [ 72],\n",
       "         [ 69],\n",
       "         [ 72],\n",
       "         [ 74],\n",
       "         [ 74],\n",
       "         [ 74],\n",
       "         [ 75],\n",
       "         [ 75],\n",
       "         [ 77],\n",
       "         [ 80],\n",
       "         [ 77],\n",
       "         [106],\n",
       "         [ 61],\n",
       "         [  0],\n",
       "         [  0],\n",
       "         [  0],\n",
       "         [  0],\n",
       "         [  0]],\n",
       " \n",
       "        [[  0],\n",
       "         [  0],\n",
       "         [  0],\n",
       "         [  0],\n",
       "         [  0],\n",
       "         [ 80],\n",
       "         [108],\n",
       "         [ 71],\n",
       "         [ 69],\n",
       "         [ 72],\n",
       "         [ 71],\n",
       "         [ 69],\n",
       "         [ 72],\n",
       "         [ 75],\n",
       "         [ 75],\n",
       "         [ 72],\n",
       "         [ 72],\n",
       "         [ 75],\n",
       "         [ 78],\n",
       "         [ 72],\n",
       "         [ 85],\n",
       "         [128],\n",
       "         [ 64],\n",
       "         [  0],\n",
       "         [  0],\n",
       "         [  0],\n",
       "         [  0],\n",
       "         [  0]],\n",
       " \n",
       "        [[  0],\n",
       "         [  0],\n",
       "         [  0],\n",
       "         [  0],\n",
       "         [  0],\n",
       "         [ 88],\n",
       "         [120],\n",
       "         [ 75],\n",
       "         [ 74],\n",
       "         [ 77],\n",
       "         [ 75],\n",
       "         [ 72],\n",
       "         [ 77],\n",
       "         [ 74],\n",
       "         [ 74],\n",
       "         [ 77],\n",
       "         [ 78],\n",
       "         [ 83],\n",
       "         [ 83],\n",
       "         [ 66],\n",
       "         [111],\n",
       "         [123],\n",
       "         [ 78],\n",
       "         [  0],\n",
       "         [  0],\n",
       "         [  0],\n",
       "         [  0],\n",
       "         [  0]],\n",
       " \n",
       "        [[  0],\n",
       "         [  0],\n",
       "         [  0],\n",
       "         [  0],\n",
       "         [  0],\n",
       "         [ 85],\n",
       "         [134],\n",
       "         [ 74],\n",
       "         [ 85],\n",
       "         [ 69],\n",
       "         [ 75],\n",
       "         [ 75],\n",
       "         [ 74],\n",
       "         [ 75],\n",
       "         [ 74],\n",
       "         [ 75],\n",
       "         [ 75],\n",
       "         [ 81],\n",
       "         [ 75],\n",
       "         [ 61],\n",
       "         [151],\n",
       "         [115],\n",
       "         [ 91],\n",
       "         [ 12],\n",
       "         [  0],\n",
       "         [  0],\n",
       "         [  0],\n",
       "         [  0]],\n",
       " \n",
       "        [[  0],\n",
       "         [  0],\n",
       "         [  0],\n",
       "         [  0],\n",
       "         [ 10],\n",
       "         [ 85],\n",
       "         [153],\n",
       "         [ 83],\n",
       "         [ 80],\n",
       "         [ 68],\n",
       "         [ 77],\n",
       "         [ 75],\n",
       "         [ 74],\n",
       "         [ 75],\n",
       "         [ 74],\n",
       "         [ 75],\n",
       "         [ 77],\n",
       "         [ 80],\n",
       "         [ 68],\n",
       "         [ 61],\n",
       "         [162],\n",
       "         [122],\n",
       "         [ 78],\n",
       "         [  6],\n",
       "         [  0],\n",
       "         [  0],\n",
       "         [  0],\n",
       "         [  0]],\n",
       " \n",
       "        [[  0],\n",
       "         [  0],\n",
       "         [  0],\n",
       "         [  0],\n",
       "         [ 30],\n",
       "         [ 75],\n",
       "         [154],\n",
       "         [ 85],\n",
       "         [ 80],\n",
       "         [ 71],\n",
       "         [ 80],\n",
       "         [ 72],\n",
       "         [ 77],\n",
       "         [ 75],\n",
       "         [ 75],\n",
       "         [ 77],\n",
       "         [ 78],\n",
       "         [ 77],\n",
       "         [ 75],\n",
       "         [ 49],\n",
       "         [191],\n",
       "         [132],\n",
       "         [ 72],\n",
       "         [ 15],\n",
       "         [  0],\n",
       "         [  0],\n",
       "         [  0],\n",
       "         [  0]],\n",
       " \n",
       "        [[  0],\n",
       "         [  0],\n",
       "         [  0],\n",
       "         [  0],\n",
       "         [ 58],\n",
       "         [ 66],\n",
       "         [174],\n",
       "         [115],\n",
       "         [ 66],\n",
       "         [ 77],\n",
       "         [ 80],\n",
       "         [ 72],\n",
       "         [ 78],\n",
       "         [ 75],\n",
       "         [ 77],\n",
       "         [ 78],\n",
       "         [ 78],\n",
       "         [ 77],\n",
       "         [ 66],\n",
       "         [ 49],\n",
       "         [222],\n",
       "         [131],\n",
       "         [ 77],\n",
       "         [ 37],\n",
       "         [  0],\n",
       "         [  0],\n",
       "         [  0],\n",
       "         [  0]],\n",
       " \n",
       "        [[  0],\n",
       "         [  0],\n",
       "         [  0],\n",
       "         [  0],\n",
       "         [ 69],\n",
       "         [ 55],\n",
       "         [179],\n",
       "         [139],\n",
       "         [ 55],\n",
       "         [ 92],\n",
       "         [ 74],\n",
       "         [ 74],\n",
       "         [ 78],\n",
       "         [ 74],\n",
       "         [ 78],\n",
       "         [ 77],\n",
       "         [ 75],\n",
       "         [ 80],\n",
       "         [ 64],\n",
       "         [ 55],\n",
       "         [242],\n",
       "         [111],\n",
       "         [ 95],\n",
       "         [ 44],\n",
       "         [  0],\n",
       "         [  0],\n",
       "         [  0],\n",
       "         [  0]],\n",
       " \n",
       "        [[  0],\n",
       "         [  0],\n",
       "         [  0],\n",
       "         [  0],\n",
       "         [ 74],\n",
       "         [ 57],\n",
       "         [159],\n",
       "         [180],\n",
       "         [ 55],\n",
       "         [ 92],\n",
       "         [ 64],\n",
       "         [ 72],\n",
       "         [ 74],\n",
       "         [ 74],\n",
       "         [ 77],\n",
       "         [ 75],\n",
       "         [ 77],\n",
       "         [ 78],\n",
       "         [ 55],\n",
       "         [ 66],\n",
       "         [255],\n",
       "         [ 97],\n",
       "         [108],\n",
       "         [ 49],\n",
       "         [  0],\n",
       "         [  0],\n",
       "         [  0],\n",
       "         [  0]],\n",
       " \n",
       "        [[  0],\n",
       "         [  0],\n",
       "         [  0],\n",
       "         [  0],\n",
       "         [ 74],\n",
       "         [ 66],\n",
       "         [145],\n",
       "         [153],\n",
       "         [ 72],\n",
       "         [ 83],\n",
       "         [ 58],\n",
       "         [ 78],\n",
       "         [ 77],\n",
       "         [ 75],\n",
       "         [ 75],\n",
       "         [ 75],\n",
       "         [ 72],\n",
       "         [ 80],\n",
       "         [ 30],\n",
       "         [132],\n",
       "         [255],\n",
       "         [ 37],\n",
       "         [122],\n",
       "         [ 60],\n",
       "         [  0],\n",
       "         [  0],\n",
       "         [  0],\n",
       "         [  0]],\n",
       " \n",
       "        [[  0],\n",
       "         [  0],\n",
       "         [  0],\n",
       "         [  0],\n",
       "         [ 80],\n",
       "         [ 69],\n",
       "         [142],\n",
       "         [180],\n",
       "         [142],\n",
       "         [ 57],\n",
       "         [ 64],\n",
       "         [ 78],\n",
       "         [ 74],\n",
       "         [ 75],\n",
       "         [ 75],\n",
       "         [ 75],\n",
       "         [ 72],\n",
       "         [ 85],\n",
       "         [ 21],\n",
       "         [185],\n",
       "         [227],\n",
       "         [ 37],\n",
       "         [143],\n",
       "         [ 63],\n",
       "         [  0],\n",
       "         [  0],\n",
       "         [  0],\n",
       "         [  0]],\n",
       " \n",
       "        [[  0],\n",
       "         [  0],\n",
       "         [  0],\n",
       "         [  0],\n",
       "         [ 83],\n",
       "         [ 71],\n",
       "         [136],\n",
       "         [194],\n",
       "         [126],\n",
       "         [ 46],\n",
       "         [ 69],\n",
       "         [ 75],\n",
       "         [ 72],\n",
       "         [ 75],\n",
       "         [ 75],\n",
       "         [ 75],\n",
       "         [ 74],\n",
       "         [ 78],\n",
       "         [ 38],\n",
       "         [139],\n",
       "         [185],\n",
       "         [ 60],\n",
       "         [151],\n",
       "         [ 58],\n",
       "         [  0],\n",
       "         [  0],\n",
       "         [  0],\n",
       "         [  0]],\n",
       " \n",
       "        [[  0],\n",
       "         [  0],\n",
       "         [  0],\n",
       "         [  4],\n",
       "         [ 81],\n",
       "         [ 74],\n",
       "         [145],\n",
       "         [177],\n",
       "         [ 78],\n",
       "         [ 49],\n",
       "         [ 74],\n",
       "         [ 77],\n",
       "         [ 75],\n",
       "         [ 75],\n",
       "         [ 75],\n",
       "         [ 75],\n",
       "         [ 74],\n",
       "         [ 72],\n",
       "         [ 63],\n",
       "         [ 80],\n",
       "         [156],\n",
       "         [117],\n",
       "         [153],\n",
       "         [ 55],\n",
       "         [  0],\n",
       "         [  0],\n",
       "         [  0],\n",
       "         [  0]],\n",
       " \n",
       "        [[  0],\n",
       "         [  0],\n",
       "         [  0],\n",
       "         [ 10],\n",
       "         [ 80],\n",
       "         [ 72],\n",
       "         [157],\n",
       "         [163],\n",
       "         [ 61],\n",
       "         [ 55],\n",
       "         [ 75],\n",
       "         [ 77],\n",
       "         [ 75],\n",
       "         [ 77],\n",
       "         [ 75],\n",
       "         [ 75],\n",
       "         [ 75],\n",
       "         [ 77],\n",
       "         [ 71],\n",
       "         [ 60],\n",
       "         [ 98],\n",
       "         [156],\n",
       "         [132],\n",
       "         [ 58],\n",
       "         [  0],\n",
       "         [  0],\n",
       "         [  0],\n",
       "         [  0]],\n",
       " \n",
       "        [[  0],\n",
       "         [  0],\n",
       "         [  0],\n",
       "         [ 13],\n",
       "         [ 77],\n",
       "         [ 74],\n",
       "         [157],\n",
       "         [143],\n",
       "         [ 43],\n",
       "         [ 61],\n",
       "         [ 72],\n",
       "         [ 75],\n",
       "         [ 77],\n",
       "         [ 75],\n",
       "         [ 74],\n",
       "         [ 77],\n",
       "         [ 77],\n",
       "         [ 75],\n",
       "         [ 71],\n",
       "         [ 58],\n",
       "         [ 80],\n",
       "         [157],\n",
       "         [120],\n",
       "         [ 66],\n",
       "         [  0],\n",
       "         [  0],\n",
       "         [  0],\n",
       "         [  0]],\n",
       " \n",
       "        [[  0],\n",
       "         [  0],\n",
       "         [  0],\n",
       "         [ 18],\n",
       "         [ 81],\n",
       "         [ 74],\n",
       "         [156],\n",
       "         [114],\n",
       "         [ 35],\n",
       "         [ 72],\n",
       "         [ 71],\n",
       "         [ 75],\n",
       "         [ 78],\n",
       "         [ 72],\n",
       "         [ 66],\n",
       "         [ 80],\n",
       "         [ 78],\n",
       "         [ 77],\n",
       "         [ 75],\n",
       "         [ 64],\n",
       "         [ 63],\n",
       "         [165],\n",
       "         [119],\n",
       "         [ 68],\n",
       "         [  0],\n",
       "         [  0],\n",
       "         [  0],\n",
       "         [  0]],\n",
       " \n",
       "        [[  0],\n",
       "         [  0],\n",
       "         [  0],\n",
       "         [ 23],\n",
       "         [ 85],\n",
       "         [ 81],\n",
       "         [177],\n",
       "         [ 57],\n",
       "         [ 52],\n",
       "         [ 77],\n",
       "         [ 71],\n",
       "         [ 78],\n",
       "         [ 80],\n",
       "         [ 72],\n",
       "         [ 75],\n",
       "         [ 74],\n",
       "         [ 77],\n",
       "         [ 77],\n",
       "         [ 75],\n",
       "         [ 64],\n",
       "         [ 37],\n",
       "         [173],\n",
       "         [ 95],\n",
       "         [ 72],\n",
       "         [  0],\n",
       "         [  0],\n",
       "         [  0],\n",
       "         [  0]],\n",
       " \n",
       "        [[  0],\n",
       "         [  0],\n",
       "         [  0],\n",
       "         [ 26],\n",
       "         [ 81],\n",
       "         [ 86],\n",
       "         [160],\n",
       "         [ 20],\n",
       "         [ 75],\n",
       "         [ 77],\n",
       "         [ 77],\n",
       "         [ 80],\n",
       "         [ 78],\n",
       "         [ 80],\n",
       "         [ 89],\n",
       "         [ 78],\n",
       "         [ 81],\n",
       "         [ 83],\n",
       "         [ 80],\n",
       "         [ 74],\n",
       "         [ 20],\n",
       "         [177],\n",
       "         [ 77],\n",
       "         [ 74],\n",
       "         [  0],\n",
       "         [  0],\n",
       "         [  0],\n",
       "         [  0]],\n",
       " \n",
       "        [[  0],\n",
       "         [  0],\n",
       "         [  0],\n",
       "         [ 49],\n",
       "         [ 77],\n",
       "         [ 91],\n",
       "         [200],\n",
       "         [  0],\n",
       "         [ 83],\n",
       "         [ 95],\n",
       "         [ 86],\n",
       "         [ 88],\n",
       "         [ 88],\n",
       "         [ 89],\n",
       "         [ 88],\n",
       "         [ 89],\n",
       "         [ 88],\n",
       "         [ 83],\n",
       "         [ 89],\n",
       "         [ 86],\n",
       "         [  0],\n",
       "         [191],\n",
       "         [ 78],\n",
       "         [ 80],\n",
       "         [ 24],\n",
       "         [  0],\n",
       "         [  0],\n",
       "         [  0]],\n",
       " \n",
       "        [[  0],\n",
       "         [  0],\n",
       "         [  0],\n",
       "         [ 54],\n",
       "         [ 71],\n",
       "         [108],\n",
       "         [165],\n",
       "         [  0],\n",
       "         [ 24],\n",
       "         [ 57],\n",
       "         [ 52],\n",
       "         [ 57],\n",
       "         [ 60],\n",
       "         [ 60],\n",
       "         [ 60],\n",
       "         [ 63],\n",
       "         [ 63],\n",
       "         [ 77],\n",
       "         [ 89],\n",
       "         [ 52],\n",
       "         [  0],\n",
       "         [211],\n",
       "         [ 97],\n",
       "         [ 77],\n",
       "         [ 61],\n",
       "         [  0],\n",
       "         [  0],\n",
       "         [  0]],\n",
       " \n",
       "        [[  0],\n",
       "         [  0],\n",
       "         [  0],\n",
       "         [ 68],\n",
       "         [ 91],\n",
       "         [117],\n",
       "         [137],\n",
       "         [  0],\n",
       "         [  0],\n",
       "         [  0],\n",
       "         [  0],\n",
       "         [  0],\n",
       "         [  0],\n",
       "         [  0],\n",
       "         [  0],\n",
       "         [  0],\n",
       "         [  0],\n",
       "         [  0],\n",
       "         [  0],\n",
       "         [  0],\n",
       "         [ 18],\n",
       "         [216],\n",
       "         [ 94],\n",
       "         [ 97],\n",
       "         [ 57],\n",
       "         [  0],\n",
       "         [  0],\n",
       "         [  0]],\n",
       " \n",
       "        [[  0],\n",
       "         [  0],\n",
       "         [  0],\n",
       "         [ 54],\n",
       "         [115],\n",
       "         [105],\n",
       "         [185],\n",
       "         [  0],\n",
       "         [  0],\n",
       "         [  1],\n",
       "         [  0],\n",
       "         [  0],\n",
       "         [  0],\n",
       "         [  0],\n",
       "         [  0],\n",
       "         [  0],\n",
       "         [  0],\n",
       "         [  0],\n",
       "         [  0],\n",
       "         [  0],\n",
       "         [  0],\n",
       "         [153],\n",
       "         [ 78],\n",
       "         [106],\n",
       "         [ 37],\n",
       "         [  0],\n",
       "         [  0],\n",
       "         [  0]],\n",
       " \n",
       "        [[  0],\n",
       "         [  0],\n",
       "         [  0],\n",
       "         [ 18],\n",
       "         [ 61],\n",
       "         [ 41],\n",
       "         [103],\n",
       "         [  0],\n",
       "         [  0],\n",
       "         [  0],\n",
       "         [  0],\n",
       "         [  0],\n",
       "         [  0],\n",
       "         [  0],\n",
       "         [  0],\n",
       "         [  0],\n",
       "         [  0],\n",
       "         [  0],\n",
       "         [  0],\n",
       "         [  0],\n",
       "         [  0],\n",
       "         [106],\n",
       "         [ 47],\n",
       "         [ 69],\n",
       "         [ 23],\n",
       "         [  0],\n",
       "         [  0],\n",
       "         [  0]]], dtype=uint8),\n",
       " 'label': 2}"
      ]
     },
     "execution_count": 6,
     "metadata": {},
     "output_type": "execute_result"
    }
   ],
   "source": [
    "dataiterator = ds.as_numpy_iterator()\n",
    "dataiterator.next()"
   ]
  },
  {
   "cell_type": "code",
   "execution_count": 7,
   "metadata": {},
   "outputs": [
    {
     "data": {
      "image/png": "[encoded data removed]",
      "text/plain": [
       "<Figure size 2000x2000 with 4 Axes>"
      ]
     },
     "metadata": {},
     "output_type": "display_data"
    }
   ],
   "source": [
    "# Setup the subplot formatting\n",
    "fig, ax = plt.subplots(ncols=4, figsize=(20,20))\n",
    "for idx in range(4):\n",
    "    batch = dataiterator.next()\n",
    "    ax[idx].imshow(np.squeeze(batch['image']))\n",
    "    ax[idx].title.set_text(batch['label'])"
   ]
  },
  {
   "cell_type": "code",
   "execution_count": 8,
   "metadata": {},
   "outputs": [],
   "source": [
    "def scale_images(data):\n",
    "  image = data['image']\n",
    "  return image / 255"
   ]
  },
  {
   "cell_type": "code",
   "execution_count": 9,
   "metadata": {},
   "outputs": [],
   "source": [
    "# Reload the dataset \n",
    "ds = tfds.load('fashion_mnist', split='train')\n",
    "# Running the dataset through the scale_images preprocessing step\n",
    "ds = ds.map(scale_images) \n",
    "# Cache the dataset for that batch \n",
    "ds = ds.cache()\n",
    "# Shuffle it up \n",
    "ds = ds.shuffle(60000)\n",
    "# Batch into 128 images per sample\n",
    "ds = ds.batch(128)\n",
    "# Reduces the likelihood of bottlenecking \n",
    "ds = ds.prefetch(64)"
   ]
  },
  {
   "cell_type": "code",
   "execution_count": 10,
   "metadata": {},
   "outputs": [
    {
     "data": {
      "text/plain": [
       "(128, 28, 28, 1)"
      ]
     },
     "execution_count": 10,
     "metadata": {},
     "output_type": "execute_result"
    }
   ],
   "source": [
    "ds.as_numpy_iterator().next().shape"
   ]
  },
  {
   "attachments": {},
   "cell_type": "markdown",
   "metadata": {},
   "source": [
    "# 3. Build Neural Network"
   ]
  },
  {
   "attachments": {},
   "cell_type": "markdown",
   "metadata": {},
   "source": [
    "### 3.1. Import Modelling Components"
   ]
  },
  {
   "cell_type": "code",
   "execution_count": 11,
   "metadata": {},
   "outputs": [],
   "source": [
    "from tensorflow.keras.models import Sequential\n",
    "from tensorflow.keras.layers import Conv2D, Dense, Flatten, Reshape, LeakyReLU, Dropout, UpSampling2D"
   ]
  },
  {
   "attachments": {},
   "cell_type": "markdown",
   "metadata": {},
   "source": [
    "### 3.2. Build Generator"
   ]
  },
  {
   "cell_type": "code",
   "execution_count": 30,
   "metadata": {},
   "outputs": [],
   "source": [
    "def build_generator():\n",
    "    model = Sequential()\n",
    "\n",
    "    # Takes in random values and reshapes it to 7x7x128\n",
    "    # Beginning of generated image\n",
    "    model.add(Dense(7*7*128, input_dim = 128))\n",
    "    model.add(LeakyReLU(0.2))\n",
    "    model.add(Reshape((7,7,128)))\n",
    "\n",
    "    # Upsampling block 1\n",
    "    model.add(UpSampling2D())\n",
    "    model.add(Conv2D(128,5, padding = 'same'))\n",
    "    model.add(LeakyReLU(0.2))\n",
    "\n",
    "    # Upsampling block 2\n",
    "    model.add(UpSampling2D())\n",
    "    model.add(Conv2D(128,5, padding = 'same'))\n",
    "    model.add(LeakyReLU(0.2))\n",
    "\n",
    "    # Down sampling blok 1\n",
    "    model.add(Conv2D(128,4, padding = 'same'))\n",
    "    model.add(LeakyReLU(0.2))\n",
    "\n",
    "    # Down sampling blok 2\n",
    "    model.add(Conv2D(128,4, padding = 'same'))\n",
    "    model.add(LeakyReLU(0.2))\n",
    "\n",
    "    # Conv Layer to get one channel\n",
    "    model.add(Conv2D(1,4, padding='same', activation='sigmoid'))\n",
    "\n",
    "\n",
    "    return model"
   ]
  },
  {
   "cell_type": "code",
   "execution_count": 33,
   "metadata": {},
   "outputs": [
    {
     "name": "stdout",
     "output_type": "stream",
     "text": [
      "Model: \"sequential_9\"\n",
      "_________________________________________________________________\n",
      " Layer (type)                Output Shape              Param #   \n",
      "=================================================================\n",
      " dense_9 (Dense)             (None, 6272)              809088    \n",
      "                                                                 \n",
      " leaky_re_lu_24 (LeakyReLU)  (None, 6272)              0         \n",
      "                                                                 \n",
      " reshape_8 (Reshape)         (None, 7, 7, 128)         0         \n",
      "                                                                 \n",
      " up_sampling2d_9 (UpSampling  (None, 14, 14, 128)      0         \n",
      " 2D)                                                             \n",
      "                                                                 \n",
      " conv2d_17 (Conv2D)          (None, 14, 14, 128)       409728    \n",
      "                                                                 \n",
      " leaky_re_lu_25 (LeakyReLU)  (None, 14, 14, 128)       0         \n",
      "                                                                 \n",
      " up_sampling2d_10 (UpSamplin  (None, 28, 28, 128)      0         \n",
      " g2D)                                                            \n",
      "                                                                 \n",
      " conv2d_18 (Conv2D)          (None, 28, 28, 128)       409728    \n",
      "                                                                 \n",
      " leaky_re_lu_26 (LeakyReLU)  (None, 28, 28, 128)       0         \n",
      "                                                                 \n",
      " conv2d_19 (Conv2D)          (None, 28, 28, 128)       262272    \n",
      "                                                                 \n",
      " leaky_re_lu_27 (LeakyReLU)  (None, 28, 28, 128)       0         \n",
      "                                                                 \n",
      " conv2d_20 (Conv2D)          (None, 28, 28, 128)       262272    \n",
      "                                                                 \n",
      " leaky_re_lu_28 (LeakyReLU)  (None, 28, 28, 128)       0         \n",
      "                                                                 \n",
      " conv2d_21 (Conv2D)          (None, 28, 28, 1)         2049      \n",
      "                                                                 \n",
      "=================================================================\n",
      "Total params: 2,155,137\n",
      "Trainable params: 2,155,137\n",
      "Non-trainable params: 0\n",
      "_________________________________________________________________\n"
     ]
    }
   ],
   "source": [
    "generator = build_generator()\n",
    "generator.summary()"
   ]
  },
  {
   "cell_type": "code",
   "execution_count": 116,
   "metadata": {},
   "outputs": [
    {
     "name": "stdout",
     "output_type": "stream",
     "text": [
      "1/1 [==============================] - 0s 18ms/step\n"
     ]
    },
    {
     "data": {
      "text/plain": [
       "(4, 28, 28, 1)"
      ]
     },
     "execution_count": 116,
     "metadata": {},
     "output_type": "execute_result"
    }
   ],
   "source": [
    "img = generator.predict(np.random.rand(4,128,1))\n",
    "img.shape"
   ]
  },
  {
   "cell_type": "code",
   "execution_count": 117,
   "metadata": {},
   "outputs": [
    {
     "data": {
      "image/png": "[encoded data removed]",
      "text/plain": [
       "<Figure size 2000x2000 with 4 Axes>"
      ]
     },
     "metadata": {},
     "output_type": "display_data"
    }
   ],
   "source": [
    "# Generate new Fashion Image\n",
    "fig, ax = plt.subplots(ncols=4, figsize=(20,20))\n",
    "for idx, imgs in enumerate(img):\n",
    "    batch = dataiterator.next()\n",
    "    ax[idx].imshow(np.squeeze(imgs))\n",
    "    ax[idx].title.set_text(idx)"
   ]
  },
  {
   "attachments": {},
   "cell_type": "markdown",
   "metadata": {},
   "source": [
    "### 3.3. Build Discriminator"
   ]
  },
  {
   "cell_type": "code",
   "execution_count": 108,
   "metadata": {},
   "outputs": [],
   "source": [
    "def build_discriminator():\n",
    "    model = Sequential()\n",
    "\n",
    "    # First Conv Block\n",
    "    model.add(Conv2D(32, 5, input_shape = (28, 28, 1)))\n",
    "    model.add(LeakyReLU(0.2))\n",
    "    model.add(Dropout(0.4))\n",
    "\n",
    "    # Second Conv Block\n",
    "    model.add(Conv2D(64, 5))\n",
    "    model.add(LeakyReLU(0.2))\n",
    "    model.add(Dropout(0.4))\n",
    "\n",
    "    # Third Conv Block\n",
    "    model.add(Conv2D(128, 5))\n",
    "    model.add(LeakyReLU(0.2))\n",
    "    model.add(Dropout(0.4))\n",
    "\n",
    "    # Forth Conv Block\n",
    "    model.add(Conv2D(256, 5))\n",
    "    model.add(LeakyReLU(0.2))\n",
    "    model.add(Dropout(0.4))\n",
    "\n",
    "    # Flatten the pass to dense layers\n",
    "    model.add(Flatten())\n",
    "    model.add(Dropout(0.4))\n",
    "    model.add(Dense(1, activation = 'sigmoid'))\n",
    "\n",
    "    return model"
   ]
  },
  {
   "cell_type": "code",
   "execution_count": 109,
   "metadata": {},
   "outputs": [
    {
     "name": "stdout",
     "output_type": "stream",
     "text": [
      "Model: \"sequential_17\"\n",
      "_________________________________________________________________\n",
      " Layer (type)                Output Shape              Param #   \n",
      "=================================================================\n",
      " conv2d_33 (Conv2D)          (None, 24, 24, 32)        832       \n",
      "                                                                 \n",
      " leaky_re_lu_40 (LeakyReLU)  (None, 24, 24, 32)        0         \n",
      "                                                                 \n",
      " dropout_11 (Dropout)        (None, 24, 24, 32)        0         \n",
      "                                                                 \n",
      " conv2d_34 (Conv2D)          (None, 20, 20, 64)        51264     \n",
      "                                                                 \n",
      " leaky_re_lu_41 (LeakyReLU)  (None, 20, 20, 64)        0         \n",
      "                                                                 \n",
      " dropout_12 (Dropout)        (None, 20, 20, 64)        0         \n",
      "                                                                 \n",
      " conv2d_35 (Conv2D)          (None, 16, 16, 128)       204928    \n",
      "                                                                 \n",
      " leaky_re_lu_42 (LeakyReLU)  (None, 16, 16, 128)       0         \n",
      "                                                                 \n",
      " dropout_13 (Dropout)        (None, 16, 16, 128)       0         \n",
      "                                                                 \n",
      " conv2d_36 (Conv2D)          (None, 12, 12, 256)       819456    \n",
      "                                                                 \n",
      " leaky_re_lu_43 (LeakyReLU)  (None, 12, 12, 256)       0         \n",
      "                                                                 \n",
      " dropout_14 (Dropout)        (None, 12, 12, 256)       0         \n",
      "                                                                 \n",
      " flatten (Flatten)           (None, 36864)             0         \n",
      "                                                                 \n",
      " dropout_15 (Dropout)        (None, 36864)             0         \n",
      "                                                                 \n",
      " dense_10 (Dense)            (None, 1)                 36865     \n",
      "                                                                 \n",
      "=================================================================\n",
      "Total params: 1,113,345\n",
      "Trainable params: 1,113,345\n",
      "Non-trainable params: 0\n",
      "_________________________________________________________________\n"
     ]
    }
   ],
   "source": [
    "disciminator = build_discriminator()\n",
    "disciminator.summary()"
   ]
  },
  {
   "cell_type": "code",
   "execution_count": 115,
   "metadata": {},
   "outputs": [],
   "source": [
    "# img = img[0]\n",
    "# img.shape"
   ]
  },
  {
   "cell_type": "code",
   "execution_count": 121,
   "metadata": {},
   "outputs": [
    {
     "name": "stdout",
     "output_type": "stream",
     "text": [
      "1/1 [==============================] - 0s 14ms/step\n"
     ]
    },
    {
     "data": {
      "text/plain": [
       "array([[0.503679  ],\n",
       "       [0.50367004],\n",
       "       [0.50361323],\n",
       "       [0.5036828 ]], dtype=float32)"
      ]
     },
     "execution_count": 121,
     "metadata": {},
     "output_type": "execute_result"
    }
   ],
   "source": [
    "# disciminator.predict(np.expand_dims(img, 0))\n",
    "disciminator.predict(img)"
   ]
  },
  {
   "attachments": {},
   "cell_type": "markdown",
   "metadata": {},
   "source": [
    "# 4. Contruct Training Loop"
   ]
  },
  {
   "attachments": {},
   "cell_type": "markdown",
   "metadata": {},
   "source": [
    "### 4.1. Setup Losses and Optimizers"
   ]
  },
  {
   "cell_type": "code",
   "execution_count": 126,
   "metadata": {},
   "outputs": [],
   "source": [
    "from tensorflow.keras.optimizers import Adam\n",
    "from tensorflow.keras.losses import BinaryCrossentropy"
   ]
  },
  {
   "cell_type": "code",
   "execution_count": 127,
   "metadata": {},
   "outputs": [],
   "source": [
    "g_opt = Adam(learning_rate = 0.0001)\n",
    "d_opt = Adam(learning_rate = 0.00001)\n",
    "g_loss = BinaryCrossentropy()\n",
    "d_loss = BinaryCrossentropy()"
   ]
  },
  {
   "attachments": {},
   "cell_type": "markdown",
   "metadata": {},
   "source": [
    "### 4.2. Build Subclassesed Model"
   ]
  },
  {
   "cell_type": "code",
   "execution_count": 128,
   "metadata": {},
   "outputs": [],
   "source": [
    "from tensorflow.keras.models import Model"
   ]
  },
  {
   "cell_type": "code",
   "execution_count": 130,
   "metadata": {},
   "outputs": [],
   "source": [
    "class FashionGAN(Model): \n",
    "    def __init__(self, generator, discriminator, *args, **kwargs):\n",
    "        # Pass through args and kwargs to base class \n",
    "        super().__init__(*args, **kwargs)\n",
    "        \n",
    "        # Create attributes for gen and disc\n",
    "        self.generator = generator \n",
    "        self.discriminator = discriminator \n",
    "        \n",
    "    def compile(self, g_opt, d_opt, g_loss, d_loss, *args, **kwargs): \n",
    "        # Compile with base class\n",
    "        super().compile(*args, **kwargs)\n",
    "        \n",
    "        # Create attributes for losses and optimizers\n",
    "        self.g_opt = g_opt\n",
    "        self.d_opt = d_opt\n",
    "        self.g_loss = g_loss\n",
    "        self.d_loss = d_loss \n",
    "\n",
    "    def train_step(self, batch):\n",
    "        # Get the data \n",
    "        real_images = batch\n",
    "        fake_images = self.generator(tf.random.normal((128, 128, 1)), training=False)\n",
    "        \n",
    "        # Train the discriminator\n",
    "        with tf.GradientTape() as d_tape: \n",
    "            # Pass the real and fake images to the discriminator model\n",
    "            yhat_real = self.discriminator(real_images, training=True) \n",
    "            yhat_fake = self.discriminator(fake_images, training=True)\n",
    "            yhat_realfake = tf.concat([yhat_real, yhat_fake], axis=0)\n",
    "            \n",
    "            # Create labels for real and fakes images\n",
    "            y_realfake = tf.concat([tf.zeros_like(yhat_real), tf.ones_like(yhat_fake)], axis=0)\n",
    "            \n",
    "            # Add some noise to the TRUE outputs\n",
    "            noise_real = 0.15*tf.random.uniform(tf.shape(yhat_real))\n",
    "            noise_fake = -0.15*tf.random.uniform(tf.shape(yhat_fake))\n",
    "            y_realfake += tf.concat([noise_real, noise_fake], axis=0)\n",
    "            \n",
    "            # Calculate loss - BINARYCROSS \n",
    "            total_d_loss = self.d_loss(y_realfake, yhat_realfake)\n",
    "            \n",
    "        # Apply backpropagation - nn learn \n",
    "        dgrad = d_tape.gradient(total_d_loss, self.discriminator.trainable_variables) \n",
    "        self.d_opt.apply_gradients(zip(dgrad, self.discriminator.trainable_variables))\n",
    "        \n",
    "        # Train the generator \n",
    "        with tf.GradientTape() as g_tape: \n",
    "            # Generate some new images\n",
    "            gen_images = self.generator(tf.random.normal((128,128,1)), training=True)\n",
    "                                        \n",
    "            # Create the predicted labels\n",
    "            predicted_labels = self.discriminator(gen_images, training=False)\n",
    "                                        \n",
    "            # Calculate loss - trick to training to fake out the discriminator\n",
    "            total_g_loss = self.g_loss(tf.zeros_like(predicted_labels), predicted_labels) \n",
    "            \n",
    "        # Apply backprop\n",
    "        ggrad = g_tape.gradient(total_g_loss, self.generator.trainable_variables)\n",
    "        self.g_opt.apply_gradients(zip(ggrad, self.generator.trainable_variables))\n",
    "        \n",
    "        return {\"d_loss\":total_d_loss, \"g_loss\":total_g_loss}"
   ]
  },
  {
   "cell_type": "code",
   "execution_count": 132,
   "metadata": {},
   "outputs": [],
   "source": [
    "# Create instance of subclasses model\n",
    "fashgan = FashionGAN(generator, disciminator)"
   ]
  },
  {
   "cell_type": "code",
   "execution_count": 134,
   "metadata": {},
   "outputs": [],
   "source": [
    "# Compile the model\n",
    "fashgan.compile(g_opt, d_opt, g_loss, d_loss)"
   ]
  },
  {
   "attachments": {},
   "cell_type": "markdown",
   "metadata": {},
   "source": [
    "### 4.3. Build Callback"
   ]
  },
  {
   "cell_type": "code",
   "execution_count": 136,
   "metadata": {},
   "outputs": [],
   "source": [
    "import os\n",
    "from tensorflow.keras.preprocessing.image import array_to_img\n",
    "from tensorflow.keras.callbacks import Callback"
   ]
  },
  {
   "cell_type": "code",
   "execution_count": 138,
   "metadata": {},
   "outputs": [],
   "source": [
    "class ModelMonitor(Callback):\n",
    "    def __init__(self, num_img=3, latent_dim=128):\n",
    "        self.num_img = num_img\n",
    "        self.latent_dim = latent_dim\n",
    "\n",
    "    def on_epoch_end(self, epoch, logs=None):\n",
    "        random_latent_vectors = tf.random.uniform((self.num_img, self.latent_dim,1))\n",
    "        generated_images = self.model.generator(random_latent_vectors)\n",
    "        generated_images *= 255\n",
    "        generated_images.numpy()\n",
    "        for i in range(self.num_img):\n",
    "            img = array_to_img(generated_images[i])\n",
    "            img.save(os.path.join('images', f'generated_img_{epoch}_{i}.png'))"
   ]
  },
  {
   "attachments": {},
   "cell_type": "markdown",
   "metadata": {},
   "source": [
    "### 4.4. Train"
   ]
  },
  {
   "cell_type": "code",
   "execution_count": 140,
   "metadata": {},
   "outputs": [
    {
     "name": "stdout",
     "output_type": "stream",
     "text": [
      "Epoch 1/10\n",
      "  6/469 [..............................] - ETA: 1:23 - d_loss: 0.3882 - g_loss: 3.2120WARNING:tensorflow:Callback method `on_train_batch_end` is slow compared to the batch time (batch time: 0.0851s vs `on_train_batch_end` time: 0.0948s). Check your callbacks.\n"
     ]
    },
    {
     "name": "stderr",
     "output_type": "stream",
     "text": [
      "WARNING:tensorflow:Callback method `on_train_batch_end` is slow compared to the batch time (batch time: 0.0851s vs `on_train_batch_end` time: 0.0948s). Check your callbacks.\n"
     ]
    },
    {
     "name": "stdout",
     "output_type": "stream",
     "text": [
      "469/469 [==============================] - 85s 181ms/step - d_loss: 0.3010 - g_loss: 6.0624\n",
      "Epoch 2/10\n",
      "469/469 [==============================] - 86s 184ms/step - d_loss: 0.2788 - g_loss: 6.5191\n",
      "Epoch 3/10\n",
      "469/469 [==============================] - 86s 183ms/step - d_loss: 0.2748 - g_loss: 6.2003\n",
      "Epoch 4/10\n",
      "469/469 [==============================] - 86s 183ms/step - d_loss: 0.2727 - g_loss: 5.9105\n",
      "Epoch 5/10\n",
      "469/469 [==============================] - 84s 179ms/step - d_loss: 0.3128 - g_loss: 5.1752\n",
      "Epoch 6/10\n",
      "469/469 [==============================] - 85s 180ms/step - d_loss: 0.2935 - g_loss: 2.5147\n",
      "Epoch 7/10\n",
      "469/469 [==============================] - 86s 183ms/step - d_loss: 0.2713 - g_loss: 2.7332\n",
      "Epoch 8/10\n",
      "469/469 [==============================] - 86s 183ms/step - d_loss: 0.2704 - g_loss: 2.7427\n",
      "Epoch 9/10\n",
      "469/469 [==============================] - 86s 184ms/step - d_loss: 0.2690 - g_loss: 2.7480\n",
      "Epoch 10/10\n",
      "469/469 [==============================] - 86s 183ms/step - d_loss: 0.2688 - g_loss: 2.7515\n"
     ]
    }
   ],
   "source": [
    "hist = fashgan.fit(ds, epochs=10, callbacks=[ModelMonitor()])"
   ]
  },
  {
   "attachments": {},
   "cell_type": "markdown",
   "metadata": {},
   "source": [
    "### 4.5. Review Performance"
   ]
  },
  {
   "cell_type": "code",
   "execution_count": 143,
   "metadata": {},
   "outputs": [
    {
     "data": {
      "image/png": "[encoded data removed]",
      "text/plain": [
       "<Figure size 640x480 with 1 Axes>"
      ]
     },
     "metadata": {},
     "output_type": "display_data"
    }
   ],
   "source": [
    "plt.suptitle('Loss')\n",
    "plt.plot(hist.history['d_loss'], label='d_loss')\n",
    "plt.plot(hist.history['g_loss'], label='g_loss')\n",
    "plt.legend()\n",
    "plt.show()"
   ]
  },
  {
   "attachments": {},
   "cell_type": "markdown",
   "metadata": {},
   "source": [
    "# 5. Test Out the Generator"
   ]
  },
  {
   "attachments": {},
   "cell_type": "markdown",
   "metadata": {},
   "source": [
    "### 5.1. Generate Images"
   ]
  },
  {
   "cell_type": "code",
   "execution_count": null,
   "metadata": {},
   "outputs": [],
   "source": [
    "generator.load_weights(os.path.join('archive', 'generatormodel.h5'))"
   ]
  },
  {
   "cell_type": "code",
   "execution_count": 144,
   "metadata": {},
   "outputs": [
    {
     "name": "stdout",
     "output_type": "stream",
     "text": [
      "1/1 [==============================] - 0s 425ms/step\n"
     ]
    }
   ],
   "source": [
    "imgs = generator.predict(tf.random.normal((16, 128, 1)))"
   ]
  },
  {
   "cell_type": "code",
   "execution_count": 145,
   "metadata": {},
   "outputs": [
    {
     "data": {
      "image/png": "[encoded data removed]",
      "text/plain": [
       "<Figure size 1000x1000 with 16 Axes>"
      ]
     },
     "metadata": {},
     "output_type": "display_data"
    }
   ],
   "source": [
    "fig, ax = plt.subplots(ncols=4, nrows=4, figsize=(10,10))\n",
    "for r in range(4): \n",
    "    for c in range(4): \n",
    "        ax[r][c].imshow(imgs[(r+1)*(c+1)-1])"
   ]
  },
  {
   "attachments": {},
   "cell_type": "markdown",
   "metadata": {},
   "source": [
    "### 5.2. Save the Model"
   ]
  },
  {
   "cell_type": "code",
   "execution_count": 146,
   "metadata": {},
   "outputs": [
    {
     "name": "stdout",
     "output_type": "stream",
     "text": [
      "WARNING:tensorflow:Compiled the loaded model, but the compiled metrics have yet to be built. `model.compile_metrics` will be empty until you train or evaluate the model.\n"
     ]
    },
    {
     "name": "stderr",
     "output_type": "stream",
     "text": [
      "WARNING:tensorflow:Compiled the loaded model, but the compiled metrics have yet to be built. `model.compile_metrics` will be empty until you train or evaluate the model.\n"
     ]
    },
    {
     "name": "stdout",
     "output_type": "stream",
     "text": [
      "WARNING:tensorflow:Compiled the loaded model, but the compiled metrics have yet to be built. `model.compile_metrics` will be empty until you train or evaluate the model.\n"
     ]
    },
    {
     "name": "stderr",
     "output_type": "stream",
     "text": [
      "WARNING:tensorflow:Compiled the loaded model, but the compiled metrics have yet to be built. `model.compile_metrics` will be empty until you train or evaluate the model.\n"
     ]
    }
   ],
   "source": [
    "generator.save('generator.h5')\n",
    "disciminator.save('discriminator.h5')"
   ]
  }
 ],
 "metadata": {
  "kernelspec": {
   "display_name": "gpu17",
   "language": "python",
   "name": "python3"
  },
  "language_info": {
   "codemirror_mode": {
    "name": "ipython",
    "version": 3
   },
   "file_extension": ".py",
   "mimetype": "text/x-python",
   "name": "python",
   "nbconvert_exporter": "python",
   "pygments_lexer": "ipython3",
   "version": "3.9.16"
  },
  "orig_nbformat": 4
 },
 "nbformat": 4,
 "nbformat_minor": 2
}
